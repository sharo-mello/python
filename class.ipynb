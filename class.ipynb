{
 "cells": [
  {
   "cell_type": "code",
   "execution_count": 1,
   "id": "3fe1a064",
   "metadata": {},
   "outputs": [
    {
     "name": "stdout",
     "output_type": "stream",
     "text": [
      "5\n"
     ]
    }
   ],
   "source": [
    "class myclass():\n",
    "    x = 5\n",
    "a=myclass\n",
    "print(a.x)"
   ]
  },
  {
   "cell_type": "code",
   "execution_count": 6,
   "id": "a927c801",
   "metadata": {},
   "outputs": [
    {
     "name": "stdout",
     "output_type": "stream",
     "text": [
      "myname is Sharo aged 24, working as a Performance Engineer\n"
     ]
    }
   ],
   "source": [
    "class person:\n",
    "    def __init__(self,name,role,age):\n",
    "        self.name=name\n",
    "        self.role=role\n",
    "        self.age=age\n",
    "    def getlist(self):\n",
    "        print(\"myname is {0} aged {2}, working as a {1}\".format(self.name,self.role,self.age))\n",
    "        \n",
    "employee = person(\"Sharo\",\"Performance Engineer\",24)\n",
    "employee.getlist()\n",
    "        "
   ]
  },
  {
   "cell_type": "code",
   "execution_count": null,
   "id": "5694828d",
   "metadata": {},
   "outputs": [],
   "source": []
  }
 ],
 "metadata": {
  "kernelspec": {
   "display_name": "Python 3 (ipykernel)",
   "language": "python",
   "name": "python3"
  },
  "language_info": {
   "codemirror_mode": {
    "name": "ipython",
    "version": 3
   },
   "file_extension": ".py",
   "mimetype": "text/x-python",
   "name": "python",
   "nbconvert_exporter": "python",
   "pygments_lexer": "ipython3",
   "version": "3.10.9"
  }
 },
 "nbformat": 4,
 "nbformat_minor": 5
}
